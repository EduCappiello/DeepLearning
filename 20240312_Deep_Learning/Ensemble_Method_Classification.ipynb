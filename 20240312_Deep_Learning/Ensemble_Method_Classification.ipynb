{
 "cells": [
  {
   "cell_type": "code",
   "execution_count": 1,
   "metadata": {},
   "outputs": [],
   "source": [
    "import numpy as np\n",
    "import pandas as pd\n",
    "from sklearn.svm import SVC\n",
    "from sklearn.svm import SVR\n",
    "from sklearn.tree import DecisionTreeClassifier\n",
    "# from sklearn.linear_model import LinearRegression\n",
    "from sklearn.model_selection import train_test_split\n",
    "import torch\n",
    "import torch.nn as nn\n",
    "import torch.optim as optim"
   ]
  },
  {
   "cell_type": "code",
   "execution_count": null,
   "metadata": {},
   "outputs": [],
   "source": [
    "# 讀取訓練數據\n",
    "file_path=\"../20240312_Deep_Learning/NN_Classification/housepricedata.csv\"\n",
    "dataset_train = pd.read_csv(file_path)"
   ]
  },
  {
   "cell_type": "code",
   "execution_count": null,
   "metadata": {},
   "outputs": [],
   "source": [
    "# 提取特徵和目標\n",
    "X = dataset_train.drop(columns=['target_column'])\n",
    "y = dataset_train['target_column']"
   ]
  },
  {
   "cell_type": "code",
   "execution_count": null,
   "metadata": {},
   "outputs": [],
   "source": [
    "# 切分訓練集和驗證集\n",
    "X_train, X_valid, y_train, y_valid = train_test_split(X, y, test_size=0.2, random_state=42)"
   ]
  },
  {
   "cell_type": "code",
   "execution_count": null,
   "metadata": {},
   "outputs": [],
   "source": [
    "# 訓練 SVC 模型\n",
    "svm_model = SVC()\n",
    "svm_model.fit(X_train, y_train)\n",
    "svc_train_preds = svm_model.predict(X_train)\n",
    "svc_valid_preds = svm_model.predict(X_valid)"
   ]
  },
  {
   "cell_type": "code",
   "execution_count": null,
   "metadata": {},
   "outputs": [],
   "source": [
    "# 訓練 SVR 模型\n",
    "# svm_model = SVR()\n",
    "# svm_model.fit(X_train, y_train)\n",
    "# svr_train_preds = svm_model.predict(X_train)\n",
    "# svr_valid_preds = svm_model.predict(X_valid)\n",
    "\n",
    "# 訓練 Decision Tree 模型\n",
    "dt_model = DecisionTreeClassifier()\n",
    "dt_model.fit(X_train, y_train)\n",
    "dt_train_preds = dt_model.predict(X_train)\n",
    "dt_valid_preds = dt_model.predict(X_valid)"
   ]
  },
  {
   "cell_type": "code",
   "execution_count": null,
   "metadata": {},
   "outputs": [],
   "source": [
    "# 訓練 Linear 模型\n",
    "# linear_model = LinearRegression()\n",
    "# linear_model.fit(X_train, y_train)\n",
    "# linear_train_preds = linear_model.predict(X_train)\n",
    "# linear_valid_preds = linear_model.predict(X_valid)\n",
    "\n",
    "# 組合預測結果\n",
    "ensemble_train_features = np.column_stack((svc_train_preds, dt_train_preds))#, linear_train_preds))\n",
    "ensemble_valid_features = np.column_stack((svc_valid_preds, dt_valid_preds))#, linear_valid_preds))"
   ]
  },
  {
   "cell_type": "code",
   "execution_count": null,
   "metadata": {},
   "outputs": [],
   "source": [
    "# 組合預測結果\n",
    "# ensemble_train_features = np.column_stack((svr_train_preds, linear_train_preds))\n",
    "# ensemble_valid_features = np.column_stack((svr_valid_preds, linear_valid_preds))\n",
    "\n",
    "# 轉換為 PyTorch 的 Tensor\n",
    "X_train_tensor = torch.FloatTensor(ensemble_train_features)\n",
    "X_valid_tensor = torch.FloatTensor(ensemble_valid_features)\n",
    "y_train_tensor = torch.FloatTensor(y_train.values)\n",
    "y_valid_tensor = torch.FloatTensor(y_valid.values)"
   ]
  },
  {
   "cell_type": "code",
   "execution_count": null,
   "metadata": {},
   "outputs": [],
   "source": [
    "# 定義原來的神經網路模型\n",
    "class Neural_Network(nn.Module):\n",
    "    def __init__(self, num_features: int):\n",
    "        super(Neural_Network, self).__init__()\n",
    "\n",
    "        layer_1_neurons = 10\n",
    "        layer_2_neurons = 20\n",
    "        layer_3_neurons = 30\n",
    "\n",
    "        self.fc_input = nn.Linear(num_features, layer_1_neurons)\n",
    "        self.fc_l1 = nn.Linear(layer_1_neurons, layer_2_neurons)\n",
    "        self.fc_l2 = nn.Linear(layer_2_neurons, layer_3_neurons)\n",
    "        self.fc_output = nn.Linear(layer_3_neurons, 1)\n",
    "        self.relu = nn.ReLU()\n",
    "\n",
    "    def forward(self, x):\n",
    "        x = self.relu(self.fc_input(x))\n",
    "        x = self.relu(self.fc_l1(x))\n",
    "        x = self.relu(self.fc_l2(x))\n",
    "        output = self.fc_output(x)\n",
    "        return output"
   ]
  },
  {
   "cell_type": "code",
   "execution_count": null,
   "metadata": {},
   "outputs": [],
   "source": [
    "# 初始化原來的神經網路模型、損失函數和優化器\n",
    "model = Neural_Network(num_features=ensemble_train_features.shape[1])\n",
    "criterion = nn.MSELoss()\n",
    "optimizer = optim.Adam(model.parameters())"
   ]
  },
  {
   "cell_type": "code",
   "execution_count": null,
   "metadata": {},
   "outputs": [],
   "source": [
    "# 訓練原來的神經網路模型\n",
    "epochs = 30\n",
    "for epoch in range(epochs):\n",
    "    model.train()\n",
    "    optimizer.zero_grad()\n",
    "    train_preds = model(X_train_tensor)\n",
    "    train_loss = criterion(train_preds, y_train_tensor.view(-1, 1))\n",
    "    train_loss.backward()\n",
    "    optimizer.step()\n",
    "\n",
    "    model.eval()\n",
    "    with torch.no_grad():\n",
    "        valid_preds = model(X_valid_tensor)\n",
    "        valid_loss = criterion(valid_preds, y_valid_tensor.view(-1, 1))\n",
    "\n",
    "    print(f'Epoch [{epoch+1}/{epochs}], Train Loss: {train_loss.item():.4f}, Valid Loss: {valid_loss.item():.4f}')"
   ]
  }
 ],
 "metadata": {
  "kernelspec": {
   "display_name": ".venv",
   "language": "python",
   "name": "python3"
  },
  "language_info": {
   "name": "python",
   "version": "3.10.12"
  }
 },
 "nbformat": 4,
 "nbformat_minor": 2
}
