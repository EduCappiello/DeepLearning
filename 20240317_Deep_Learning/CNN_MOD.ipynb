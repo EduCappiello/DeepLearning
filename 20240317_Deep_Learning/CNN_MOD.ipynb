{
 "cells": [
  {
   "cell_type": "code",
   "execution_count": 1,
   "metadata": {},
   "outputs": [],
   "source": [
    "import numpy as np\n",
    "import pandas as pd\n",
    "import cv2\n",
    "import torch\n",
    "import torch.nn as nn\n",
    "from torch.utils.data import Dataset, DataLoader\n",
    "from sklearn.model_selection import train_test_split\n",
    "from sklearn.tree import DecisionTreeClassifier\n",
    "from torchvision.transforms import Compose, ToTensor\n",
    "from sklearn.preprocessing import LabelEncoder"
   ]
  },
  {
   "cell_type": "code",
   "execution_count": 2,
   "metadata": {},
   "outputs": [],
   "source": [
    "# Define your dataset class\n",
    "class CustomDataset(Dataset):\n",
    "    def __init__(self, dataframe, transform=None):\n",
    "        self.dataframe = dataframe\n",
    "        self.transform = transform\n",
    "\n",
    "    def __len__(self):\n",
    "        return len(self.dataframe)\n",
    "\n",
    "    def __getitem__(self, idx):\n",
    "        img_path = \"InfraredSolarModules/\" + self.dataframe.iloc[idx]['image_filepath']\n",
    "        img = cv2.imread(img_path, cv2.IMREAD_GRAYSCALE)\n",
    "        img = img.astype(np.float32) / 255.0  # Normalize to [0, 1]\n",
    "        if self.transform:\n",
    "            img = self.transform(img)\n",
    "        label = int(self.dataframe.iloc[idx]['class_code'])\n",
    "        return img, label"
   ]
  },
  {
   "cell_type": "code",
   "execution_count": 3,
   "metadata": {},
   "outputs": [],
   "source": [
    "# Read data\n",
    "DataSolarModules = pd.read_json('InfraredSolarModules/module_metadata.json').transpose().sort_index()\n",
    "Classes = DataSolarModules['anomaly_class'].unique()\n",
    "class_to_number = dict(enumerate(Classes.flatten(), 0))\n",
    "class_to_number = {v: k for k, v in class_to_number.items()}"
   ]
  },
  {
   "cell_type": "code",
   "execution_count": 4,
   "metadata": {},
   "outputs": [],
   "source": [
    "def map_to_class(value):\n",
    "    return class_to_number.get(value, 'Unknown')\n",
    "\n",
    "DataSolarModules['class_code'] = DataSolarModules['anomaly_class'].apply(map_to_class)"
   ]
  },
  {
   "cell_type": "code",
   "execution_count": 5,
   "metadata": {},
   "outputs": [],
   "source": [
    "# Split data indices\n",
    "datos = list(range(0,len(DataSolarModules)))\n",
    "np.random.shuffle(datos)\n",
    "data_train_idx, data_test_idx = train_test_split(datos, test_size=0.2)\n",
    "data_train_idx, data_val_idx = train_test_split(data_train_idx, test_size=0.25)"
   ]
  },
  {
   "cell_type": "code",
   "execution_count": 6,
   "metadata": {},
   "outputs": [],
   "source": [
    "# Get corresponding data using indices\n",
    "data_train = DataSolarModules.iloc[data_train_idx]\n",
    "data_val = DataSolarModules.iloc[data_val_idx]\n",
    "data_test = DataSolarModules.iloc[data_test_idx]"
   ]
  },
  {
   "cell_type": "code",
   "execution_count": 7,
   "metadata": {},
   "outputs": [],
   "source": [
    "# Prepare datasets and data loaders\n",
    "transform = Compose([ToTensor()])\n",
    "train_dataset = CustomDataset(data_train, transform=transform)\n",
    "val_dataset = CustomDataset(data_val, transform=transform)\n",
    "test_dataset = CustomDataset(data_test, transform=transform)"
   ]
  },
  {
   "cell_type": "code",
   "execution_count": 8,
   "metadata": {},
   "outputs": [],
   "source": [
    "batch_size = 32\n",
    "train_loader = DataLoader(train_dataset, batch_size=batch_size, shuffle=True)\n",
    "val_loader = DataLoader(val_dataset, batch_size=batch_size)\n",
    "test_loader = DataLoader(test_dataset, batch_size=batch_size)"
   ]
  },
  {
   "cell_type": "code",
   "execution_count": 9,
   "metadata": {},
   "outputs": [],
   "source": [
    "# Define CNN architecture\n",
    "class CNN(nn.Module):\n",
    "    def __init__(self, num_classes):\n",
    "        super(CNN, self).__init__()\n",
    "        self.conv1 = nn.Conv2d(1, 8, kernel_size=3, stride=2, padding=1)\n",
    "        self.conv2 = nn.Conv2d(8, 16, kernel_size=3, stride=2, padding=1)\n",
    "        self.conv3 = nn.Conv2d(16, 32, kernel_size=3, stride=2, padding=1)\n",
    "        self.avgpool = nn.AdaptiveAvgPool2d(1)\n",
    "        self.fc = nn.Linear(32, num_classes)\n",
    "\n",
    "    def forward(self, x):\n",
    "        x = nn.ReLU()(self.conv1(x))\n",
    "        x = nn.ReLU()(self.conv2(x))\n",
    "        x = nn.ReLU()(self.conv3(x))\n",
    "        x = self.avgpool(x)\n",
    "        x = x.view(x.size(0), -1)\n",
    "        x = self.fc(x)\n",
    "        return x"
   ]
  },
  {
   "cell_type": "code",
   "execution_count": 10,
   "metadata": {},
   "outputs": [],
   "source": [
    "# Train CNN and Decision Tree jointly\n",
    "num_epochs = 10\n",
    "device = torch.device(\"cuda\" if torch.cuda.is_available() else \"cpu\")\n",
    "cnn_model = CNN(num_classes=len(Classes)).to(device)\n",
    "criterion = nn.CrossEntropyLoss()\n",
    "cnn_optimizer = torch.optim.Adam(cnn_model.parameters(), lr=0.001)\n",
    "decision_tree = DecisionTreeClassifier()"
   ]
  },
  {
   "cell_type": "code",
   "execution_count": 11,
   "metadata": {},
   "outputs": [
    {
     "name": "stdout",
     "output_type": "stream",
     "text": [
      "CNN Epoch [1/10], Loss: 1.8241\n",
      "CNN Epoch [2/10], Loss: 1.7508\n",
      "CNN Epoch [3/10], Loss: 1.7414\n",
      "CNN Epoch [4/10], Loss: 1.7352\n",
      "CNN Epoch [5/10], Loss: 1.7304\n",
      "CNN Epoch [6/10], Loss: 1.7256\n",
      "CNN Epoch [7/10], Loss: 1.7195\n",
      "CNN Epoch [8/10], Loss: 1.7123\n",
      "CNN Epoch [9/10], Loss: 1.7095\n",
      "CNN Epoch [10/10], Loss: 1.6918\n"
     ]
    }
   ],
   "source": [
    "for epoch in range(num_epochs):\n",
    "    cnn_model.train()\n",
    "    running_loss = 0.0\n",
    "    for images, labels in train_loader:\n",
    "        images, labels = images.to(device), labels.to(device)  # No need to convert labels to tensor\n",
    "        cnn_optimizer.zero_grad()\n",
    "        outputs = cnn_model(images)\n",
    "        loss = criterion(outputs, labels)\n",
    "        loss.backward()\n",
    "        cnn_optimizer.step()\n",
    "        running_loss += loss.item() * images.size(0)\n",
    "    epoch_loss = running_loss / len(train_dataset)\n",
    "    print(f\"CNN Epoch [{epoch+1}/{num_epochs}], Loss: {epoch_loss:.4f}\")\n",
    "\n",
    "\n",
    "\n",
    "    # Update decision tree with new features\n",
    "    cnn_model.eval()\n",
    "    train_features = []\n",
    "    train_labels = []\n",
    "    with torch.no_grad():\n",
    "        for images, labels in train_loader:\n",
    "            images = images.to(device)\n",
    "            output = cnn_model(images)\n",
    "            train_features.append(output.cpu().numpy())\n",
    "            train_labels.append(labels.numpy())\n",
    "    train_features = np.concatenate(train_features)\n",
    "    train_labels = np.concatenate(train_labels)\n",
    "    decision_tree.fit(train_features, train_labels)"
   ]
  },
  {
   "cell_type": "code",
   "execution_count": 12,
   "metadata": {},
   "outputs": [
    {
     "name": "stdout",
     "output_type": "stream",
     "text": [
      "Decision Tree Accuracy on test set: 37.67%\n"
     ]
    }
   ],
   "source": [
    "# Evaluate Decision Tree\n",
    "test_features = []\n",
    "test_labels = []\n",
    "with torch.no_grad():\n",
    "    for images, labels in test_loader:\n",
    "        images = images.to(device)\n",
    "        output = cnn_model(images)\n",
    "        test_features.append(output.cpu().numpy())\n",
    "        test_labels.append(labels.numpy())\n",
    "test_features = np.concatenate(test_features)\n",
    "test_labels = np.concatenate(test_labels)\n",
    "accuracy = decision_tree.score(test_features, test_labels)\n",
    "print(f\"Decision Tree Accuracy on test set: {accuracy * 100:.2f}%\")"
   ]
  }
 ],
 "metadata": {
  "kernelspec": {
   "display_name": ".venv",
   "language": "python",
   "name": "python3"
  },
  "language_info": {
   "codemirror_mode": {
    "name": "ipython",
    "version": 3
   },
   "file_extension": ".py",
   "mimetype": "text/x-python",
   "name": "python",
   "nbconvert_exporter": "python",
   "pygments_lexer": "ipython3",
   "version": "3.10.12"
  }
 },
 "nbformat": 4,
 "nbformat_minor": 2
}
